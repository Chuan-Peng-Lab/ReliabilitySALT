{
 "cells": [
  {
   "attachments": {},
   "cell_type": "markdown",
   "id": "b952a2e6",
   "metadata": {},
   "source": [
    "# Split Half"
   ]
  },
  {
   "cell_type": "code",
   "execution_count": 1,
   "id": "326a28a5",
   "metadata": {},
   "outputs": [],
   "source": [
    "import pandas\n",
    "import numpy\n",
    "import multiprocess"
   ]
  },
  {
   "cell_type": "code",
   "execution_count": 2,
   "id": "527dfb16",
   "metadata": {},
   "outputs": [],
   "source": [
    "df = pandas.read_csv('./DATA/df1.csv')"
   ]
  },
  {
   "cell_type": "code",
   "execution_count": 3,
   "id": "3ca5dab7",
   "metadata": {},
   "outputs": [],
   "source": [
    "# 创建一个空list用于存放分半的结果\n",
    "shl = [[] for _ in range(10)]\n",
    "\n",
    "# 单线程分半\n",
    "for i in range(10):\n",
    "\n",
    "    # 按照指定的四个变量进行分组\n",
    "    grouped = df.groupby(['Subject', 'Matching', 'Identity', 'Session'])\n",
    "\n",
    "    # 设置随机种子\n",
    "    numpy.random.seed(i)\n",
    "\n",
    "    # 定义拆分函数\n",
    "    def split(group):\n",
    "        indices = numpy.random.permutation(len(group))  # 随机打乱索引\n",
    "        if len(indices) % 2 != 0:  # 检查索引长度是否为奇数\n",
    "            indices = indices[:-1]  # 如果是，就删除最后一个索引\n",
    "        else:\n",
    "            indices = indices # 偶数就保留原索引\n",
    "        half = len(indices) // 2 # 得到索引的一半位置是多少\n",
    "        return group.iloc[indices[:half]].reset_index(drop=True), group.iloc[indices[half:]].reset_index(drop=True)\n",
    "\n",
    "    # 创建两个空DataFrame来存储拆分后的结果\n",
    "    result1 = pandas.DataFrame()\n",
    "    result2 = pandas.DataFrame()\n",
    "\n",
    "    # 对每个组应用拆分函数，并将结果存储到对应的DataFrame中\n",
    "    for (_, _, _, _), (group1, group2) in grouped.apply(split).items():\n",
    "        result1 = pandas.concat([result1, group1], ignore_index=True)\n",
    "        result2 = pandas.concat([result2, group2], ignore_index=True)\n",
    "\n",
    "    # 解除分组\n",
    "    result1 = result1.reset_index(drop=True)\n",
    "    result2 = result2.reset_index(drop=True)\n",
    "    \n",
    "    shl[i].append(result1)  # 添加 result1 到 shl[i] 的列表中\n",
    "    shl[i].append(result2)  # 添加 result2 到 shl[i] 的列表中\n",
    "\n",
    "del group1, group2, grouped, i, result1, result2"
   ]
  },
  {
   "cell_type": "code",
   "execution_count": 4,
   "id": "c1437ad8",
   "metadata": {},
   "outputs": [],
   "source": [
    "# 多线程(函数)\n",
    "def process_iteration(i):\n",
    "    \n",
    "    import pandas\n",
    "    import numpy\n",
    "    df = pandas.read_csv('./DATA/df1.csv')\n",
    " \n",
    "    # 按照指定的四个变量进行分组\n",
    "    grouped = df.groupby(['Subject', 'Matching', 'Identity', 'Session'])\n",
    "\n",
    "    # 创建一个空list用于存放分半的结果\n",
    "    shl = [[] for _ in range(i)]\n",
    "\n",
    "    # 设置随机种子\n",
    "    numpy.random.seed(i)\n",
    "\n",
    "    # 定义拆分函数\n",
    "    def split(group):\n",
    "        indices = numpy.random.permutation(len(group))  # 随机打乱索引\n",
    "        if len(indices) % 2 != 0:  # 检查索引长度是否为奇数\n",
    "            indices = indices[:-1]  # 如果是，就删除最后一个索引\n",
    "        else:\n",
    "            indices = indices # 偶数就保留原索引\n",
    "        half = len(indices) // 2 # 得到索引的一半位置是多少\n",
    "        return group.iloc[indices[:half]].reset_index(drop=True), group.iloc[indices[half:]].reset_index(drop=True) # 以乱序索引的中点二分\n",
    "\n",
    "    # 创建两个空DataFrame来存储拆分后的结果\n",
    "    result1 = pandas.DataFrame()\n",
    "    result2 = pandas.DataFrame()\n",
    "\n",
    "    # 对每个组应用拆分函数，并将结果存储到对应的DataFrame中\n",
    "    for (_, _, _, _), (group1, group2) in grouped.apply(split).items():\n",
    "        result1 = pandas.concat([result1, group1], ignore_index=True)\n",
    "        result2 = pandas.concat([result2, group2], ignore_index=True)\n",
    "\n",
    "    # 解除分组\n",
    "    result1 = result1.reset_index(drop=True)\n",
    "    result2 = result2.reset_index(drop=True)\n",
    "\n",
    "    return result1, result2"
   ]
  },
  {
   "cell_type": "code",
   "execution_count": 5,
   "id": "d8374277",
   "metadata": {},
   "outputs": [],
   "source": [
    "# 多线程(执行)\n",
    "if __name__ == '__main__':\n",
    "    num_iterations = 10\n",
    "    pool = multiprocess.Pool(processes=16)\n",
    "\n",
    "    results = pool.map(process_iteration, range(num_iterations))\n",
    "\n",
    "    shl = [[] for _ in range(num_iterations)]\n",
    "    for i, (result1, result2) in enumerate(results):\n",
    "        shl[i].append(result1)\n",
    "        shl[i].append(result2)\n",
    "\n",
    "del i, num_iterations, pool, result1, result2, results,"
   ]
  },
  {
   "attachments": {},
   "cell_type": "markdown",
   "id": "42bbee8a",
   "metadata": {},
   "source": [
    "# PyDDM"
   ]
  },
  {
   "cell_type": "code",
   "execution_count": 18,
   "id": "c7830161",
   "metadata": {},
   "outputs": [],
   "source": [
    "import pyddm"
   ]
  }
 ],
 "metadata": {
  "kernelspec": {
   "display_name": "Python 3 (ipykernel)",
   "language": "python",
   "name": "python3"
  },
  "language_info": {
   "codemirror_mode": {
    "name": "ipython",
    "version": 3
   },
   "file_extension": ".py",
   "mimetype": "text/x-python",
   "name": "python",
   "nbconvert_exporter": "python",
   "pygments_lexer": "ipython3",
   "version": "3.11.3"
  }
 },
 "nbformat": 4,
 "nbformat_minor": 5
}
